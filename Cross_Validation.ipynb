{
 "cells": [
  {
   "cell_type": "code",
   "execution_count": 6,
   "metadata": {},
   "outputs": [],
   "source": [
    "import numpy as np\n",
    "import pandas as pd\n",
    "import matplotlib.pyplot as plt\n",
    "from sklearn.model_selection import train_test_split\n",
    "from sklearn.neighbors import KNeighborsClassifier\n",
    "from sklearn.metrics import accuracy_score\n",
    "from sklearn.model_selection import cross_val_score\n",
    "from collections import Counter\n",
    "\n",
    "\n"
   ]
  },
  {
   "cell_type": "code",
   "execution_count": 7,
   "metadata": {},
   "outputs": [],
   "source": [
    "#naming the columns\n",
    "names=['x','y','class']\n",
    "\n",
    "#loading the data from csv files\n",
    "df=pd.read_csv('3.concertriccir2.csv',header=None,names=names)\n",
    "\n",
    "#storing all rows and 1,2,3 columns in X\n",
    "X=np.array(df.iloc[:,:3])\n",
    "\n",
    "#storing the class label in y\n",
    "y=np.array(df['class'])"
   ]
  },
  {
   "cell_type": "code",
   "execution_count": 8,
   "metadata": {},
   "outputs": [
    {
     "name": "stdout",
     "output_type": "stream",
     "text": [
      "\n",
      " CV accuracy for k=1 is 100%\n",
      "\n",
      " CV accuracy for k=3 is 100%\n",
      "\n",
      " CV accuracy for k=5 is 100%\n",
      "\n",
      " CV accuracy for k=7 is 100%\n",
      "\n",
      " CV accuracy for k=9 is 99%\n",
      "\n",
      " CV accuracy for k=11 is 97%\n",
      "\n",
      " CV accuracy for k=13 is 95%\n",
      "\n",
      " CV accuracy for k=15 is 93%\n",
      "\n",
      " CV accuracy for k=17 is 92%\n",
      "\n",
      " CV accuracy for k=19 is 91%\n",
      "\n",
      " CV accuracy for k=21 is 89%\n",
      "\n",
      " CV accuracy for k=23 is 88%\n",
      "\n",
      " CV accuracy for k=25 is 85%\n",
      "\n",
      " CV accuracy for k=27 is 85%\n",
      "\n",
      " CV accuracy for k=29 is 84%\n",
      "\n",
      " Accuracy on test dataset with k=1 is 99%\n"
     ]
    }
   ],
   "source": [
    "#breaking the entire data into two parts: X_1, X_test\n",
    "X_1,X_test,y_1,y_test=train_test_split(X,y,test_size=0.3,random_state=0)\n",
    "\n",
    "#breaking the X_1 data into two parts: X_tr , X_cv\n",
    "X_tr,X_cv,y_tr,y_cv=train_test_split(X_1,y_1,test_size=0.3)\n",
    "\n",
    "\n",
    "#taking values of k  as odd numbers from 1 to 30\n",
    "for i in range(1,30,2):\n",
    "    \n",
    "    #instantiate learning model\n",
    "    knn=KNeighborsClassifier(n_neighbors=i)\n",
    "    \n",
    "    #fitting the training data to the learning model\n",
    "    knn.fit(X_tr,y_tr)\n",
    "    \n",
    "    #predicting the value on X_cv with the help of learning model\n",
    "    pred=knn.predict(X_cv)\n",
    "    \n",
    "    # calculating the accuracy of the preddicted X_cv data\n",
    "    acc=accuracy_score(y_cv,pred, normalize=True)* float(100)\n",
    "    \n",
    "    print('\\n CV accuracy for k=%d is %d%%' %(i,acc))\n",
    "    \n",
    "    \n",
    "\n",
    "#calculating the accuracy on test data    \n",
    "knn=KNeighborsClassifier(1)\n",
    "knn.fit(X_tr,y_tr)\n",
    "pred=knn.predict(X_test)\n",
    "acc=accuracy_score(y_test,pred, normalize=True)*float(100)\n",
    "\n",
    "print('\\n Accuracy on test dataset with k=1 is %d%%' %(acc))"
   ]
  }
 ],
 "metadata": {
  "kernelspec": {
   "display_name": "Python 3",
   "language": "python",
   "name": "python3"
  },
  "language_info": {
   "codemirror_mode": {
    "name": "ipython",
    "version": 3
   },
   "file_extension": ".py",
   "mimetype": "text/x-python",
   "name": "python",
   "nbconvert_exporter": "python",
   "pygments_lexer": "ipython3",
   "version": "3.7.2"
  }
 },
 "nbformat": 4,
 "nbformat_minor": 2
}
